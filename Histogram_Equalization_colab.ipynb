{
  "nbformat": 4,
  "nbformat_minor": 0,
  "metadata": {
    "kernelspec": {
      "display_name": "Python 3",
      "language": "python",
      "name": "python3"
    },
    "language_info": {
      "codemirror_mode": {
        "name": "ipython",
        "version": 3
      },
      "file_extension": ".py",
      "mimetype": "text/x-python",
      "name": "python",
      "nbconvert_exporter": "python",
      "pygments_lexer": "ipython3",
      "version": "3.7.6"
    },
    "colab": {
      "name": "Histogram Equalization.ipynb",
      "provenance": [],
      "collapsed_sections": [],
      "include_colab_link": true
    }
  },
  "cells": [
    {
      "cell_type": "markdown",
      "metadata": {
        "id": "view-in-github",
        "colab_type": "text"
      },
      "source": [
        "<a href=\"https://colab.research.google.com/github/QasimWani/histogram_equalization/blob/master/Histogram_Equalization_colab.ipynb\" target=\"_parent\"><img src=\"https://colab.research.google.com/assets/colab-badge.svg\" alt=\"Open In Colab\"/></a>"
      ]
    },
    {
      "cell_type": "code",
      "metadata": {
        "id": "o-klJYdxibJe",
        "colab_type": "code",
        "colab": {
          "base_uri": "https://localhost:8080/",
          "height": 170
        },
        "outputId": "b0a92f3d-cc63-4639-924b-773ac96cb53c"
      },
      "source": [
        "#import packages\n",
        "!pip install numpy\n",
        "!pip install matplotlib\n",
        "!pip install pillow\n",
        "\n",
        "import numpy as np\n",
        "import pandas as pd\n",
        "from PIL import Image\n",
        "import matplotlib.pyplot as plt\n",
        "from collections import OrderedDict\n",
        "import time\n",
        "import urllib.request as request #for opening the image from a url. hidden-symbols.tif has been uploaded on Cloudinary for ease, quick use :D"
      ],
      "execution_count": null,
      "outputs": [
        {
          "output_type": "stream",
          "text": [
            "Requirement already satisfied: numpy in /usr/local/lib/python3.6/dist-packages (1.18.5)\n",
            "Requirement already satisfied: matplotlib in /usr/local/lib/python3.6/dist-packages (3.2.2)\n",
            "Requirement already satisfied: cycler>=0.10 in /usr/local/lib/python3.6/dist-packages (from matplotlib) (0.10.0)\n",
            "Requirement already satisfied: kiwisolver>=1.0.1 in /usr/local/lib/python3.6/dist-packages (from matplotlib) (1.2.0)\n",
            "Requirement already satisfied: pyparsing!=2.0.4,!=2.1.2,!=2.1.6,>=2.0.1 in /usr/local/lib/python3.6/dist-packages (from matplotlib) (2.4.7)\n",
            "Requirement already satisfied: numpy>=1.11 in /usr/local/lib/python3.6/dist-packages (from matplotlib) (1.18.5)\n",
            "Requirement already satisfied: python-dateutil>=2.1 in /usr/local/lib/python3.6/dist-packages (from matplotlib) (2.8.1)\n",
            "Requirement already satisfied: six in /usr/local/lib/python3.6/dist-packages (from cycler>=0.10->matplotlib) (1.15.0)\n",
            "Requirement already satisfied: pillow in /usr/local/lib/python3.6/dist-packages (7.0.0)\n"
          ],
          "name": "stdout"
        }
      ]
    },
    {
      "cell_type": "code",
      "metadata": {
        "id": "vW95BtP2ibJi",
        "colab_type": "code",
        "colab": {}
      },
      "source": [
        "## convert an input image to histogram"
      ],
      "execution_count": null,
      "outputs": []
    },
    {
      "cell_type": "code",
      "metadata": {
        "id": "MrcuRA9FibJl",
        "colab_type": "code",
        "colab": {}
      },
      "source": [
        "def img_to_hist(f, mode=True):\n",
        "    \"\"\"\n",
        "    Converts an input image to histogram.\n",
        "    @Param:\n",
        "    1. f - np.array list for input image.\n",
        "    2. mode - (boolean) normalize the output? default = true\n",
        "    @Return\n",
        "    2. hist - list for histogram (use plt.plot(hist)) for displaying the histogram\n",
        "    \"\"\"\n",
        "    row, col = f.shape #get number of rows and columns\n",
        "    hist = np.zeros(256) #reference list for calculating the frequency\n",
        "    \n",
        "    for i in range(row): #get row\n",
        "        for j in range(col): #get column\n",
        "            intensity = f[i][j] #get current pixel\n",
        "            hist[intensity] += 1\n",
        "    \n",
        "    if(mode): #normalize the image\n",
        "        hist /= row*col\n",
        "    return hist #normalize to probabilities "
      ],
      "execution_count": null,
      "outputs": []
    },
    {
      "cell_type": "code",
      "metadata": {
        "id": "zgTuGmLEibJn",
        "colab_type": "code",
        "colab": {}
      },
      "source": [
        "url = 'https://res.cloudinary.com/crammer/image/upload/v1601008388/hidden-symbols_odfgah.tiff' #extract image for this assignment hosted online"
      ],
      "execution_count": null,
      "outputs": []
    },
    {
      "cell_type": "code",
      "metadata": {
        "id": "kDW9Jeh8jTLI",
        "colab_type": "code",
        "colab": {}
      },
      "source": [
        "input_image = np.array(Image.open(request.urlopen(url)))"
      ],
      "execution_count": null,
      "outputs": []
    },
    {
      "cell_type": "code",
      "metadata": {
        "id": "xr8jT4fmibJp",
        "colab_type": "code",
        "colab": {
          "base_uri": "https://localhost:8080/",
          "height": 529
        },
        "outputId": "ce416fba-8aa1-435f-b820-ec090e749753"
      },
      "source": [
        "Image.fromarray(input_image)"
      ],
      "execution_count": null,
      "outputs": [
        {
          "output_type": "execute_result",
          "data": {
            "image/png": "[encoded data removed]",
            "text/plain": [
              "<PIL.Image.Image image mode=L size=512x512 at 0x7F0233ECFE80>"
            ]
          },
          "metadata": {
            "tags": []
          },
          "execution_count": 6
        }
      ]
    },
    {
      "cell_type": "code",
      "metadata": {
        "id": "tyYtBKT5ibJt",
        "colab_type": "code",
        "colab": {}
      },
      "source": [
        "histogram = img_to_hist(input_image, True)"
      ],
      "execution_count": null,
      "outputs": []
    },
    {
      "cell_type": "code",
      "metadata": {
        "id": "W9uvI4W8ibJv",
        "colab_type": "code",
        "colab": {
          "base_uri": "https://localhost:8080/",
          "height": 295
        },
        "outputId": "047226f5-8f5a-441a-894a-7d9ccb5781ea"
      },
      "source": [
        "plt.title(\"Convert an Image to Histogram\")\n",
        "plt.xlabel(\"Intensity\")\n",
        "plt.ylabel(\"Value\")\n",
        "plt.plot(histogram)\n",
        "plt.show()"
      ],
      "execution_count": null,
      "outputs": [
        {
          "output_type": "display_data",
          "data": {
            "image/png": "[encoded data removed]",
            "text/plain": [
              "<Figure size 432x288 with 1 Axes>"
            ]
          },
          "metadata": {
            "tags": [],
            "needs_background": "light"
          }
        }
      ]
    },
    {
      "cell_type": "code",
      "metadata": {
        "id": "9SlWiPluibJy",
        "colab_type": "code",
        "colab": {}
      },
      "source": [
        "## Histogram Equalization"
      ],
      "execution_count": null,
      "outputs": []
    },
    {
      "cell_type": "code",
      "metadata": {
        "id": "RLyHMsaEibJ0",
        "colab_type": "code",
        "colab": {}
      },
      "source": [
        "# steps:\n",
        "# 1. replicate padding. DONE\n",
        "# 2. compute pdf. DONE\n",
        "# 3. compute cdf. DONE\n",
        "# 4. find the middle element and replace with the round(cdf) value. DONE\n",
        "# 5. return new matrix without the replicate padding. DONE"
      ],
      "execution_count": null,
      "outputs": []
    },
    {
      "cell_type": "code",
      "metadata": {
        "id": "9RsNdJ6mibJ2",
        "colab_type": "code",
        "colab": {}
      },
      "source": [
        "def replicate_padding(arr):\n",
        "    \"\"\"Perform replicate padding on a numpy array.\"\"\"\n",
        "    new_pad_shape = tuple(np.array(arr.shape) + 2)\n",
        "    padded_array = np.zeros(new_pad_shape) #create an array of zeros with new dimensions\n",
        "    \n",
        "    # perform replication\n",
        "    padded_array[1:-1,1:-1] = arr        # result will be zero-pad\n",
        "    padded_array[0,1:-1] = arr[0]        # perform edge pad for top row\n",
        "    padded_array[-1, 1:-1] = arr[-1]     # edge pad for bottom row\n",
        "    padded_array.T[0, 1:-1] = arr.T[0]   # edge pad for first column\n",
        "    padded_array.T[-1, 1:-1] = arr.T[-1] # edge pad for last column\n",
        "    \n",
        "    #at this point, all values except for the 4 corners should have been replicated\n",
        "    padded_array[0][0] = arr[0][0]     # top left corner\n",
        "    padded_array[-1][0] = arr[-1][0]   # bottom left corner\n",
        "    padded_array[0][-1] = arr[0][-1]   # top right corner \n",
        "    padded_array[-1][-1] = arr[-1][-1] # bottom right corner\n",
        "\n",
        "    return padded_array"
      ],
      "execution_count": null,
      "outputs": []
    },
    {
      "cell_type": "code",
      "metadata": {
        "id": "xMX4O0jOibJ4",
        "colab_type": "code",
        "colab": {}
      },
      "source": [
        "def get_slices(arr, width, height):\n",
        "    \"\"\"Collects m (width) x n (height) slices for a padded array\"\"\"\n",
        "    row, col = 0, 0\n",
        "    slices = []\n",
        "    for i in range(len(arr) - width + 1): #get row\n",
        "        for j in range(len(arr[i]) - height + 1): #get column\n",
        "            r = i + width\n",
        "            c = j + height\n",
        "            sub_array = arr[i:r, j:c]\n",
        "            slices.append(sub_array)\n",
        "    return np.array(slices)"
      ],
      "execution_count": null,
      "outputs": []
    },
    {
      "cell_type": "code",
      "metadata": {
        "id": "dkkhMR4mibJ6",
        "colab_type": "code",
        "colab": {}
      },
      "source": [
        "def pdf(sub_array, m, n):\n",
        "    \"\"\"\n",
        "    --- HELPER METHOD ---\n",
        "    \n",
        "    Computes the pdf of portion of an array, indicated by sub_array\n",
        "    @Param:\n",
        "    1. sub_array - m * n array\n",
        "    2. m - integer value for number of rows in the sub array.\n",
        "    3. n - integer value for number of columns in the sub array.\n",
        "    @Return\n",
        "    - values : overall distribution as probability\n",
        "    \"\"\"\n",
        "    values = {} #dictionary for counter\n",
        "    fraction = 1/(m*n) #iterative fraction\n",
        "    \n",
        "    for i in range(m): #get row\n",
        "        for j in range(n): #get column\n",
        "            intensity = sub_array[i][j]\n",
        "            if(intensity in values):\n",
        "                values[intensity] += fraction\n",
        "            else:\n",
        "                values[intensity] = fraction  \n",
        "           \n",
        "    _, prob = zip(*list(values.items()))\n",
        "    assert(np.round(sum(prob), decimals=6) == 1.0) #assert ∑ pdf = 1 \n",
        "    \n",
        "    return dict(OrderedDict(sorted(values.items())))"
      ],
      "execution_count": null,
      "outputs": []
    },
    {
      "cell_type": "code",
      "metadata": {
        "id": "MfmSC6MdibJ9",
        "colab_type": "code",
        "colab": {}
      },
      "source": [
        "def cdf_value(pdf_dict, range_L, value):\n",
        "    \"\"\"\n",
        "    --- HELPER METHOD ---\n",
        "    \n",
        "    Calculate the Cumultive Density Function (cdf) for a particular value\n",
        "    based on its Probability Density Function (pdf) values.\n",
        "    @Param:\n",
        "    1. pdf_dict - dictionary of {intensity:probability} mapping\n",
        "    2. range_L - overall range, L - 1 (const)\n",
        "    @Returns\n",
        "    - cdf: (float) cumulitive density function value based on \n",
        "    \"\"\"\n",
        "    cdf = 0\n",
        "    count, prob = zip(*list(pdf_dict.items())) #unwrap\n",
        "    for c, x in zip(count, prob):\n",
        "        cdf += x*range_L \n",
        "        if(c == value):\n",
        "            break\n",
        "    return round(cdf)"
      ],
      "execution_count": null,
      "outputs": []
    },
    {
      "cell_type": "code",
      "metadata": {
        "id": "S8nTaXX6ibJ-",
        "colab_type": "code",
        "colab": {}
      },
      "source": [
        "def replace_value(sub_array, range_L):\n",
        "    \"\"\"Finds the middle value of the array and returns the CDF calculated value\"\"\"\n",
        "    m, n = sub_array.shape\n",
        "    midpoint = round(m/n)\n",
        "    value = sub_array[midpoint, midpoint] #find the midpoint\n",
        "    pdf_dict = pdf(sub_array, m, n)\n",
        "    cdf = cdf_value(pdf_dict, range_L, value) #calculate the desired cdf\n",
        "    return cdf"
      ],
      "execution_count": null,
      "outputs": []
    },
    {
      "cell_type": "code",
      "metadata": {
        "id": "wR_9dw12ibKB",
        "colab_type": "code",
        "colab": {}
      },
      "source": [
        "def localHistEqual4e(f, m, n):\n",
        "    \"\"\"\n",
        "    Perform Local Histogram Equalization on a neighboring set of pixels.\n",
        "    @Param:\n",
        "    1. f - input image as an nd.array\n",
        "    2. m - neighborhood width\n",
        "    3. n - neighborhood height\n",
        "    @Return\n",
        "    - Transformation values on the original image, f as nd.array.\n",
        "    \"\"\"\n",
        "    L = 255\n",
        "    padded = replicate_padding(f)\n",
        "    output_shape = tuple(np.array(padded.shape) - np.array([m, n]) + 1) #reshape later to this format\n",
        "    sliced = get_slices(padded, m, n)\n",
        "    outer = []\n",
        "    for i, sub_array in enumerate(sliced):\n",
        "        val = replace_value(sub_array, L)\n",
        "        outer.append(np.uint8(val))\n",
        "\n",
        "    return np.reshape(outer, output_shape)"
      ],
      "execution_count": null,
      "outputs": []
    },
    {
      "cell_type": "code",
      "metadata": {
        "id": "OXVhZZr_ibKD",
        "colab_type": "code",
        "colab": {
          "base_uri": "https://localhost:8080/",
          "height": 34
        },
        "outputId": "98ca65ad-ddd4-4251-f34b-e9db39abc6a5"
      },
      "source": [
        "start = time.time()\n",
        "output = localHistEqual4e(input_image, 7, 7)\n",
        "stop = time.time()\n",
        "print(f\"Total time taken: {np.round(stop - start, decimals=3)} seconds\")"
      ],
      "execution_count": null,
      "outputs": [
        {
          "output_type": "stream",
          "text": [
            "Total time taken: 13.888 seconds\n"
          ],
          "name": "stdout"
        }
      ]
    },
    {
      "cell_type": "code",
      "metadata": {
        "id": "r5b1YBgJibKF",
        "colab_type": "code",
        "colab": {
          "base_uri": "https://localhost:8080/",
          "height": 525
        },
        "outputId": "a083357a-2b54-4d2d-af83-9adeea9b9626"
      },
      "source": [
        "#visualize output image\n",
        "Image.fromarray(output)"
      ],
      "execution_count": null,
      "outputs": [
        {
          "output_type": "execute_result",
          "data": {
            "image/png": "[encoded data removed]",
            "text/plain": [
              "<PIL.Image.Image image mode=L size=508x508 at 0x7F0233495BA8>"
            ]
          },
          "metadata": {
            "tags": []
          },
          "execution_count": 18
        }
      ]
    },
    {
      "cell_type": "code",
      "metadata": {
        "id": "2mW-mUPribKH",
        "colab_type": "code",
        "colab": {
          "base_uri": "https://localhost:8080/",
          "height": 295
        },
        "outputId": "2dee115d-b0db-494d-f732-7fc8cab6f646"
      },
      "source": [
        "#Plot histogram for output value\n",
        "histogram = img_to_hist(output, True)\n",
        "plt.title(\"Convert Output Image to Histogram\")\n",
        "plt.xlabel(\"Intensity\")\n",
        "plt.ylabel(\"Value\")\n",
        "plt.plot(histogram)\n",
        "plt.show()"
      ],
      "execution_count": null,
      "outputs": [
        {
          "output_type": "display_data",
          "data": {
            "image/png": "[encoded data removed]",
            "text/plain": [
              "<Figure size 432x288 with 1 Axes>"
            ]
          },
          "metadata": {
            "tags": [],
            "needs_background": "light"
          }
        }
      ]
    },
    {
      "cell_type": "code",
      "metadata": {
        "id": "2fnikgo8ibKJ",
        "colab_type": "code",
        "colab": {}
      },
      "source": [
        "#end."
      ],
      "execution_count": null,
      "outputs": []
    }
  ]
}