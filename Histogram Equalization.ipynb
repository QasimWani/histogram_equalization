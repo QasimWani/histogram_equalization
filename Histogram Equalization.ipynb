{
 "cells": [
  {
   "cell_type": "code",
   "execution_count": 1,
   "metadata": {},
   "outputs": [],
   "source": [
    "import numpy as np\n",
    "import pandas as pd\n",
    "from PIL import Image\n",
    "import matplotlib.pyplot as plt\n",
    "from collections import OrderedDict\n",
    "import time"
   ]
  },
  {
   "cell_type": "code",
   "execution_count": 2,
   "metadata": {},
   "outputs": [],
   "source": [
    "## convert an input image to histogram"
   ]
  },
  {
   "cell_type": "code",
   "execution_count": 3,
   "metadata": {},
   "outputs": [],
   "source": [
    "def img_to_hist(f, mode=True):\n",
    "    \"\"\"\n",
    "    Converts an input image to histogram.\n",
    "    @Param:\n",
    "    1. f - np.array list for input image.\n",
    "    2. mode - (boolean) normalize the output? default = true\n",
    "    @Return\n",
    "    2. hist - list for histogram (use plt.plot(hist)) for displaying the histogram\n",
    "    \"\"\"\n",
    "    row, col = f.shape #get number of rows and columns\n",
    "    hist = np.zeros(256) #reference list for calculating the frequency\n",
    "    \n",
    "    for i in range(row): #get row\n",
    "        for j in range(col): #get column\n",
    "            intensity = f[i][j] #get current pixel\n",
    "            hist[intensity] += 1\n",
    "    \n",
    "    if(mode): #normalize the image\n",
    "        hist /= row*col\n",
    "    return hist #normalize to probabilities "
   ]
  },
  {
   "cell_type": "code",
   "execution_count": 4,
   "metadata": {},
   "outputs": [],
   "source": [
    "input_image = np.array(Image.open('images/hidden-symbols.tif'))"
   ]
  },
  {
   "cell_type": "code",
   "execution_count": 5,
   "metadata": {},
   "outputs": [
    {
     "data": {
      "image/png": "[encoded data removed]",
      "text/plain": [
       "<PIL.Image.Image image mode=L size=512x512 at 0x7F87657E1610>"
      ]
     },
     "execution_count": 5,
     "metadata": {},
     "output_type": "execute_result"
    }
   ],
   "source": [
    "Image.fromarray(input_image)"
   ]
  },
  {
   "cell_type": "code",
   "execution_count": 6,
   "metadata": {},
   "outputs": [],
   "source": [
    "histogram = img_to_hist(input_image, True)"
   ]
  },
  {
   "cell_type": "code",
   "execution_count": 7,
   "metadata": {},
   "outputs": [
    {
     "data": {
      "image/png": "[encoded data removed]",
      "text/plain": [
       "<Figure size 432x288 with 1 Axes>"
      ]
     },
     "metadata": {
      "needs_background": "light"
     },
     "output_type": "display_data"
    }
   ],
   "source": [
    "plt.title(\"Convert an Image to Histogram\")\n",
    "plt.xlabel(\"Intensity\")\n",
    "plt.ylabel(\"Value\")\n",
    "plt.plot(histogram)\n",
    "plt.show()"
   ]
  },
  {
   "cell_type": "code",
   "execution_count": 8,
   "metadata": {},
   "outputs": [],
   "source": [
    "## Histogram Equalization"
   ]
  },
  {
   "cell_type": "code",
   "execution_count": 9,
   "metadata": {},
   "outputs": [],
   "source": [
    "# steps:\n",
    "# 1. replicate padding. DONE\n",
    "# 2. compute pdf. DONE\n",
    "# 3. compute cdf. DONE\n",
    "# 4. find the middle element and replace with the round(cdf) value. DONE\n",
    "# 5. return new matrix without the replicate padding. DONE"
   ]
  },
  {
   "cell_type": "code",
   "execution_count": 10,
   "metadata": {},
   "outputs": [],
   "source": [
    "def replicate_padding(arr):\n",
    "    \"\"\"Perform replicate padding on a numpy array.\"\"\"\n",
    "    new_pad_shape = tuple(np.array(arr.shape) + 2)\n",
    "    padded_array = np.zeros(new_pad_shape) #create an array of zeros with new dimensions\n",
    "    \n",
    "    # perform replication\n",
    "    padded_array[1:-1,1:-1] = arr        # result will be zero-pad\n",
    "    padded_array[0,1:-1] = arr[0]        # perform edge pad for top row\n",
    "    padded_array[-1, 1:-1] = arr[-1]     # edge pad for bottom row\n",
    "    padded_array.T[0, 1:-1] = arr.T[0]   # edge pad for first column\n",
    "    padded_array.T[-1, 1:-1] = arr.T[-1] # edge pad for last column\n",
    "    \n",
    "    #at this point, all values except for the 4 corners should have been replicated\n",
    "    padded_array[0][0] = arr[0][0]     # top left corner\n",
    "    padded_array[-1][0] = arr[-1][0]   # bottom left corner\n",
    "    padded_array[0][-1] = arr[0][-1]   # top right corner \n",
    "    padded_array[-1][-1] = arr[-1][-1] # bottom right corner\n",
    "\n",
    "    return padded_array"
   ]
  },
  {
   "cell_type": "code",
   "execution_count": 11,
   "metadata": {},
   "outputs": [],
   "source": [
    "def get_slices(arr, width, height):\n",
    "    \"\"\"Collects m (width) x n (height) slices for a padded array\"\"\"\n",
    "    row, col = 0, 0\n",
    "    slices = []\n",
    "    for i in range(len(arr) - width + 1): #get row\n",
    "        for j in range(len(arr[i]) - height + 1): #get column\n",
    "            r = i + width\n",
    "            c = j + height\n",
    "            sub_array = arr[i:r, j:c]\n",
    "            slices.append(sub_array)\n",
    "    return np.array(slices)"
   ]
  },
  {
   "cell_type": "code",
   "execution_count": 12,
   "metadata": {},
   "outputs": [],
   "source": [
    "def pdf(sub_array, m, n):\n",
    "    \"\"\"\n",
    "    --- HELPER METHOD ---\n",
    "    \n",
    "    Computes the pdf of portion of an array, indicated by sub_array\n",
    "    @Param:\n",
    "    1. sub_array - m * n array\n",
    "    2. m - integer value for number of rows in the sub array.\n",
    "    3. n - integer value for number of columns in the sub array.\n",
    "    @Return\n",
    "    - values : overall distribution as probability\n",
    "    \"\"\"\n",
    "    values = {} #dictionary for counter\n",
    "    fraction = 1/(m*n) #iterative fraction\n",
    "    \n",
    "    for i in range(m): #get row\n",
    "        for j in range(n): #get column\n",
    "            intensity = sub_array[i][j]\n",
    "            if(intensity in values):\n",
    "                values[intensity] += fraction\n",
    "            else:\n",
    "                values[intensity] = fraction  \n",
    "           \n",
    "    _, prob = zip(*list(values.items()))\n",
    "    assert(np.round(sum(prob), decimals=6) == 1.0) #assert ∑ pdf = 1 \n",
    "    \n",
    "    return dict(OrderedDict(sorted(values.items())))"
   ]
  },
  {
   "cell_type": "code",
   "execution_count": 13,
   "metadata": {},
   "outputs": [],
   "source": [
    "def cdf_value(pdf_dict, range_L, value):\n",
    "    \"\"\"\n",
    "    --- HELPER METHOD ---\n",
    "    \n",
    "    Calculate the Cumultive Density Function (cdf) for a particular value\n",
    "    based on its Probability Density Function (pdf) values.\n",
    "    @Param:\n",
    "    1. pdf_dict - dictionary of {intensity:probability} mapping\n",
    "    2. range_L - overall range, L - 1 (const)\n",
    "    @Returns\n",
    "    - cdf: (float) cumulitive density function value based on \n",
    "    \"\"\"\n",
    "    cdf = 0\n",
    "    count, prob = zip(*list(pdf_dict.items())) #unwrap\n",
    "    for c, x in zip(count, prob):\n",
    "        cdf += x*range_L \n",
    "        if(c == value):\n",
    "            break\n",
    "    return round(cdf)"
   ]
  },
  {
   "cell_type": "code",
   "execution_count": 14,
   "metadata": {},
   "outputs": [],
   "source": [
    "def replace_value(sub_array, range_L):\n",
    "    \"\"\"Finds the middle value of the array and returns the CDF calculated value\"\"\"\n",
    "    m, n = sub_array.shape\n",
    "    midpoint = round(m/n)\n",
    "    value = sub_array[midpoint, midpoint] #find the midpoint\n",
    "    pdf_dict = pdf(sub_array, m, n)\n",
    "    cdf = cdf_value(pdf_dict, range_L, value) #calculate the desired cdf\n",
    "    return cdf"
   ]
  },
  {
   "cell_type": "code",
   "execution_count": 15,
   "metadata": {},
   "outputs": [],
   "source": [
    "def localHistEqual4e(f, m, n):\n",
    "    \"\"\"\n",
    "    Perform Local Histogram Equalization on a neighboring set of pixels.\n",
    "    @Param:\n",
    "    1. f - input image as an nd.array\n",
    "    2. m - neighborhood width\n",
    "    3. n - neighborhood height\n",
    "    @Return\n",
    "    - Transformation values on the original image, f as nd.array.\n",
    "    \"\"\"\n",
    "    L = 255\n",
    "    padded = replicate_padding(f)\n",
    "    output_shape = tuple(np.array(padded.shape) - np.array([m, n]) + 1) #reshape later to this format\n",
    "    sliced = get_slices(padded, m, n)\n",
    "    outer = []\n",
    "    for i, sub_array in enumerate(sliced):\n",
    "        val = replace_value(sub_array, L)\n",
    "        outer.append(np.uint8(val))\n",
    "\n",
    "    return np.reshape(outer, output_shape)"
   ]
  },
  {
   "cell_type": "code",
   "execution_count": 16,
   "metadata": {},
   "outputs": [
    {
     "name": "stdout",
     "output_type": "stream",
     "text": [
      "Total time taken: 5.651 seconds\n"
     ]
    }
   ],
   "source": [
    "start = time.time()\n",
    "output = localHistEqual4e(input_image, 3, 3)\n",
    "stop = time.time()\n",
    "print(f\"Total time taken: {np.round(stop - start, decimals=3)} seconds\")"
   ]
  },
  {
   "cell_type": "code",
   "execution_count": 17,
   "metadata": {},
   "outputs": [
    {
     "data": {
      "image/png": "[encoded data removed]",
      "text/plain": [
       "<PIL.Image.Image image mode=L size=512x512 at 0x7F87661D8150>"
      ]
     },
     "execution_count": 17,
     "metadata": {},
     "output_type": "execute_result"
    }
   ],
   "source": [
    "#visualize output image\n",
    "Image.fromarray(output)"
   ]
  },
  {
   "cell_type": "code",
   "execution_count": 18,
   "metadata": {},
   "outputs": [
    {
     "data": {
      "image/png": "[encoded data removed]",
      "text/plain": [
       "<Figure size 432x288 with 1 Axes>"
      ]
     },
     "metadata": {
      "needs_background": "light"
     },
     "output_type": "display_data"
    }
   ],
   "source": [
    "#Plot histogram for output value\n",
    "histogram = img_to_hist(output, True)\n",
    "plt.title(\"Convert Output Image to Histogram\")\n",
    "plt.xlabel(\"Intensity\")\n",
    "plt.ylabel(\"Value\")\n",
    "plt.plot(histogram)\n",
    "plt.show()"
   ]
  },
  {
   "cell_type": "code",
   "execution_count": 19,
   "metadata": {},
   "outputs": [],
   "source": [
    "#end."
   ]
  }
 ],
 "metadata": {
  "kernelspec": {
   "display_name": "Python 3",
   "language": "python",
   "name": "python3"
  },
  "language_info": {
   "codemirror_mode": {
    "name": "ipython",
    "version": 3
   },
   "file_extension": ".py",
   "mimetype": "text/x-python",
   "name": "python",
   "nbconvert_exporter": "python",
   "pygments_lexer": "ipython3",
   "version": "3.7.6"
  }
 },
 "nbformat": 4,
 "nbformat_minor": 4
}
